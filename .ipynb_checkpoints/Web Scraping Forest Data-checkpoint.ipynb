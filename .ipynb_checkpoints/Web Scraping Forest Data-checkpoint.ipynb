{
 "cells": [
  {
   "cell_type": "code",
   "execution_count": 82,
   "id": "2276f2d0",
   "metadata": {},
   "outputs": [],
   "source": [
    "import pandas as pd\n",
    "import numpy as np\n",
    "import matplotlib.pyplot as plt\n",
    "from requests_html import HTMLSession\n",
    "from bs4 import BeautifulSoup"
   ]
  },
  {
   "cell_type": "code",
   "execution_count": 83,
   "id": "fb84e10d",
   "metadata": {},
   "outputs": [
    {
     "data": {
      "text/plain": [
       "200"
      ]
     },
     "execution_count": 83,
     "metadata": {},
     "output_type": "execute_result"
    }
   ],
   "source": [
    "session = HTMLSession()\n",
    "response = session.get('https://natural-resources.canada.ca/our-natural-resources/forests/state-canadas-forests-report/how-much-forest-does-canada-have/17601#')\n",
    "response.status_code"
   ]
  },
  {
   "cell_type": "code",
   "execution_count": 84,
   "id": "640e7688",
   "metadata": {},
   "outputs": [],
   "source": [
    "soup = BeautifulSoup(response.text, 'html.parser')"
   ]
  },
  {
   "cell_type": "code",
   "execution_count": 85,
   "id": "f78c3edc",
   "metadata": {},
   "outputs": [],
   "source": [
    "for br in soup.findAll('\\n'):\n",
    "    br.decompose()"
   ]
  },
  {
   "cell_type": "code",
   "execution_count": 86,
   "id": "b03fd281",
   "metadata": {
    "scrolled": false
   },
   "outputs": [],
   "source": [
    "tbody = soup.tbody\n",
    "\n",
    "year = []\n",
    "forest_area = []\n",
    "\n",
    "for tr in tbody:\n",
    "    if len(tr.text) == 14 :\n",
    "        \n",
    "        row_data = tr.text.replace('\\n', '')\n",
    "        row_data = row_data.replace(',' , '')\n",
    "        \n",
    "        year_data = row_data[0:4]\n",
    "        forest_data = row_data[4: len(row_data)]\n",
    "        \n",
    "        year.append(year_data)\n",
    "        forest_area.append(forest_data)"
   ]
  },
  {
   "cell_type": "code",
   "execution_count": 87,
   "id": "ad1bb04e",
   "metadata": {},
   "outputs": [],
   "source": [
    "# declare dataframe\n",
    "forest_cover_df = pd.DataFrame()\n",
    "forest_cover_df['year'] = year\n",
    "forest_cover_df['forest_area'] = forest_area"
   ]
  },
  {
   "cell_type": "code",
   "execution_count": 88,
   "id": "ade06e92",
   "metadata": {},
   "outputs": [
    {
     "name": "stdout",
     "output_type": "stream",
     "text": [
      "<class 'pandas.core.frame.DataFrame'>\n",
      "RangeIndex: 32 entries, 0 to 31\n",
      "Data columns (total 2 columns):\n",
      " #   Column       Non-Null Count  Dtype \n",
      "---  ------       --------------  ----- \n",
      " 0   year         32 non-null     object\n",
      " 1   forest_area  32 non-null     object\n",
      "dtypes: object(2)\n",
      "memory usage: 640.0+ bytes\n"
     ]
    }
   ],
   "source": [
    "# what is the average forest cover in canada?\n",
    "forest_cover_df.info()"
   ]
  },
  {
   "cell_type": "code",
   "execution_count": 89,
   "id": "a08f08ab",
   "metadata": {},
   "outputs": [],
   "source": [
    "forest_cover_df['forest_area'] = forest_cover_df['forest_area'].apply(pd.to_numeric)"
   ]
  },
  {
   "cell_type": "code",
   "execution_count": 90,
   "id": "d9349af2",
   "metadata": {},
   "outputs": [
    {
     "data": {
      "text/plain": [
       "362492.09375"
      ]
     },
     "execution_count": 90,
     "metadata": {},
     "output_type": "execute_result"
    }
   ],
   "source": [
    "forest_cover_df['forest_area'].mean()"
   ]
  },
  {
   "cell_type": "code",
   "execution_count": 91,
   "id": "aed00586",
   "metadata": {},
   "outputs": [
    {
     "data": {
      "image/png": "[encoded data removed]",
      "text/plain": [
       "<Figure size 432x288 with 1 Axes>"
      ]
     },
     "metadata": {
      "needs_background": "light"
     },
     "output_type": "display_data"
    }
   ],
   "source": [
    "forest_cover_df.plot(kind = 'bar', x = 'year', y = 'forest_area', ylabel = 'Forest Cover', xlabel = 'Year',\n",
    "                    title = 'Forest Cover by Year', legend = None)\n",
    "plt.show()"
   ]
  },
  {
   "cell_type": "code",
   "execution_count": 92,
   "id": "8e33d5f4",
   "metadata": {},
   "outputs": [],
   "source": [
    "table_all = soup.find_all(\"table\", {\"class\": \"table table-bordered\"})"
   ]
  },
  {
   "cell_type": "code",
   "execution_count": null,
   "id": "0ad58549",
   "metadata": {},
   "outputs": [],
   "source": []
  }
 ],
 "metadata": {
  "kernelspec": {
   "display_name": "Python 3 (ipykernel)",
   "language": "python",
   "name": "python3"
  },
  "language_info": {
   "codemirror_mode": {
    "name": "ipython",
    "version": 3
   },
   "file_extension": ".py",
   "mimetype": "text/x-python",
   "name": "python",
   "nbconvert_exporter": "python",
   "pygments_lexer": "ipython3",
   "version": "3.9.7"
  }
 },
 "nbformat": 4,
 "nbformat_minor": 5
}
