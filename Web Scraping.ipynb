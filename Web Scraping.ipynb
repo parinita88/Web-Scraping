{
 "cells": [
  {
   "cell_type": "code",
   "execution_count": 55,
   "id": "922d8488",
   "metadata": {},
   "outputs": [],
   "source": [
    "# Imports\n",
    "import pandas as pd\n",
    "import numpy as np\n",
    "import matplotlib.pyplot as plt\n",
    "from requests_html import HTMLSession\n",
    "from bs4 import BeautifulSoup"
   ]
  },
  {
   "cell_type": "code",
   "execution_count": 56,
   "id": "caaea82b",
   "metadata": {},
   "outputs": [
    {
     "data": {
      "text/plain": [
       "200"
      ]
     },
     "execution_count": 56,
     "metadata": {},
     "output_type": "execute_result"
    }
   ],
   "source": [
    "# Start a HTML session and make a request to get the data\n",
    "session = HTMLSession()\n",
    "# product = 'toys'\n",
    "response = session.get('https://ca.finance.yahoo.com')\n",
    "response.status_code"
   ]
  },
  {
   "cell_type": "code",
   "execution_count": 57,
   "id": "1b1f06ee",
   "metadata": {},
   "outputs": [],
   "source": [
    "# declare dataframe\n",
    "finance_df = pd.DataFrame()\n",
    "\n",
    "# Beautiful Soup library\n",
    "soup = BeautifulSoup(response.text, 'html.parser')\n",
    "\n",
    "# remove line breaks\n",
    "for br in soup.findAll('br'):\n",
    "    br.decompose()\n",
    "    \n",
    "# top div on the page called market-summary\n",
    "div_market_summary = soup.find(id = 'market-summary')\n",
    "title = []\n",
    "value = []\n",
    "market_change = []\n",
    "\n",
    "# finding each market summary element\n",
    "for el in div_market_summary:\n",
    "    h3_all = soup.find_all('h3')\n",
    "    for h3 in h3_all:\n",
    "        if h3['class'] == ['Maw(160px)'] :\n",
    "            \n",
    "# finding title\n",
    "            title.append(h3.a['title'])\n",
    "            for el in h3:\n",
    "            \n",
    "# finding value\n",
    "                if el['class']== ['Fz(s)', 'Mt(4px)', 'Mb(0px)', 'Fw(b)', 'D(ib)'] :\n",
    "                    value.append(el['value'])\n",
    "            \n",
    "# finding change in market value\n",
    "                if el['class']== ['Fz(xs)', 'Fw(b)'] :\n",
    "                    for i in el:\n",
    "                        market_change.append(i['value'])\n",
    "              "
   ]
  },
  {
   "cell_type": "code",
   "execution_count": 58,
   "id": "e03400e3",
   "metadata": {},
   "outputs": [],
   "source": [
    "# assiging title to dataframe\n",
    "finance_df['title'] = title"
   ]
  },
  {
   "cell_type": "code",
   "execution_count": 59,
   "id": "1ca52816",
   "metadata": {},
   "outputs": [],
   "source": [
    "# assiging value to dataframe\n",
    "finance_df['value'] = value"
   ]
  },
  {
   "cell_type": "code",
   "execution_count": 60,
   "id": "ac7432d6",
   "metadata": {},
   "outputs": [],
   "source": [
    "# creating list of market value change and percent change\n",
    "market_value_change = []\n",
    "market_percent_change = []\n",
    "for i in range(12):\n",
    "    if i%2 == 0:\n",
    "        market_value_change.append(market_change[i])\n",
    "    if i%2 != 0:\n",
    "        market_percent_change.append(market_change[i])"
   ]
  },
  {
   "cell_type": "code",
   "execution_count": 61,
   "id": "9c57cd55",
   "metadata": {},
   "outputs": [],
   "source": [
    "# assigning market value change \n",
    "finance_df['market_value_change'] = market_value_change"
   ]
  },
  {
   "cell_type": "code",
   "execution_count": 62,
   "id": "71ee77de",
   "metadata": {},
   "outputs": [],
   "source": [
    "# assiging market percent change\n",
    "finance_df['market_percent_change'] = market_percent_change"
   ]
  },
  {
   "cell_type": "code",
   "execution_count": 63,
   "id": "e38e9aba",
   "metadata": {},
   "outputs": [
    {
     "name": "stdout",
     "output_type": "stream",
     "text": [
      "         title      value market_value_change market_percent_change\n",
      "0      S&P/TSX   20361.25           134.46094             0.6647666\n",
      "1      S&P 500    4538.97           16.180176            0.35774767\n",
      "2          DOW    34947.8           362.44922             1.0479848\n",
      "3      CAD/USD  0.7592784        0.0012432933            0.16400962\n",
      "4    CRUDE OIL      75.43           1.2799988              1.726229\n",
      "5  Bitcoin CAD  39367.434          -456.71875            -1.1468434\n"
     ]
    }
   ],
   "source": [
    "# print dataframe\n",
    "print(finance_df)"
   ]
  },
  {
   "cell_type": "code",
   "execution_count": null,
   "id": "74d8e929",
   "metadata": {},
   "outputs": [],
   "source": []
  }
 ],
 "metadata": {
  "kernelspec": {
   "display_name": "Python 3 (ipykernel)",
   "language": "python",
   "name": "python3"
  },
  "language_info": {
   "codemirror_mode": {
    "name": "ipython",
    "version": 3
   },
   "file_extension": ".py",
   "mimetype": "text/x-python",
   "name": "python",
   "nbconvert_exporter": "python",
   "pygments_lexer": "ipython3",
   "version": "3.9.7"
  }
 },
 "nbformat": 4,
 "nbformat_minor": 5
}
