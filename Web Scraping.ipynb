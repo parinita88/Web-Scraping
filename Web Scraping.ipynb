{
 "cells": [
  {
   "cell_type": "code",
   "execution_count": 1,
   "id": "922d8488",
   "metadata": {},
   "outputs": [],
   "source": [
    "import pandas as pd\n",
    "import numpy as np\n",
    "import matplotlib.pyplot as plt\n",
    "from requests_html import HTMLSession\n",
    "from bs4 import BeautifulSoup"
   ]
  },
  {
   "cell_type": "code",
   "execution_count": 2,
   "id": "caaea82b",
   "metadata": {},
   "outputs": [
    {
     "data": {
      "text/plain": [
       "200"
      ]
     },
     "execution_count": 2,
     "metadata": {},
     "output_type": "execute_result"
    }
   ],
   "source": [
    "# Start a HTML session and make a request to get the data\n",
    "session = HTMLSession()\n",
    "# product = 'toys'\n",
    "response = session.get('https://ca.finance.yahoo.com')\n",
    "response.status_code"
   ]
  },
  {
   "cell_type": "code",
   "execution_count": 32,
   "id": "1b1f06ee",
   "metadata": {},
   "outputs": [],
   "source": [
    "soup = BeautifulSoup(response.text, 'html.parser')\n",
    "\n",
    "# remove line breaks\n",
    "for br in soup.findAll('br'):\n",
    "    br.decompose()\n",
    "    \n",
    "# top div on the page called market-summary\n",
    "div_market_summary = soup.find(id = 'market-summary')\n",
    "href = []\n",
    "title = []\n",
    "value = []\n",
    "market_change = []\n",
    "\n",
    "for el in div_market_summary:\n",
    "    h3_all = soup.find_all('h3')\n",
    "#    print(y.h3['class'])\n",
    "    for h3 in h3_all:\n",
    "        if h3['class'] == ['Maw(160px)'] :\n",
    "#            print(i)\n",
    "            title.append(h3.a['title'])\n",
    "            href.append(h3.a['href'])\n",
    "            for el in h3:\n",
    "                if el['class']== ['Fz(s)', 'Mt(4px)', 'Mb(0px)', 'Fw(b)', 'D(ib)'] :\n",
    "                    value.append(el['value'])\n",
    "    \n",
    "                if el['class']== ['Fz(xs)', 'Fw(b)'] :\n",
    "                    for i in el:\n",
    "                        market_change.append(i['value'])\n",
    "                    "
   ]
  },
  {
   "cell_type": "code",
   "execution_count": 33,
   "id": "2fcc77d8",
   "metadata": {},
   "outputs": [
    {
     "name": "stdout",
     "output_type": "stream",
     "text": [
      "Market :  S&P/TSX\n",
      "Regular Market Price :  20337.81\n",
      "Regular Market Change :  111.02\n",
      "-------\n",
      "Market :  S&P 500\n",
      "Regular Market Price :  4531.7\n",
      "Regular Market Change :  0.55\n",
      "-------\n",
      "Market :  DOW\n",
      "Regular Market Price :  34796.85\n",
      "Regular Market Change :  8.91\n",
      "-------\n",
      "Market :  CAD/USD\n",
      "Regular Market Price :  0.75769055\n",
      "Regular Market Change :  0.2\n",
      "-------\n",
      "Market :  CRUDE OIL\n",
      "Regular Market Price :  75.01\n",
      "Regular Market Change :  211.5\n",
      "-------\n",
      "Market :  Bitcoin CAD\n",
      "Regular Market Price :  39443.113\n",
      "Regular Market Change :  0.61\n",
      "-------\n"
     ]
    }
   ],
   "source": [
    "for i in range(len(href)):\n",
    "    print('Market : ', title[i])\n",
    "    print('Regular Market Price : ', value[i])\n",
    "    print('Regular Market Change : ', round(float(market_change[i]), 2) )\n",
    "    print('-------')"
   ]
  },
  {
   "cell_type": "code",
   "execution_count": null,
   "id": "e03400e3",
   "metadata": {},
   "outputs": [],
   "source": []
  }
 ],
 "metadata": {
  "kernelspec": {
   "display_name": "Python 3 (ipykernel)",
   "language": "python",
   "name": "python3"
  },
  "language_info": {
   "codemirror_mode": {
    "name": "ipython",
    "version": 3
   },
   "file_extension": ".py",
   "mimetype": "text/x-python",
   "name": "python",
   "nbconvert_exporter": "python",
   "pygments_lexer": "ipython3",
   "version": "3.9.7"
  }
 },
 "nbformat": 4,
 "nbformat_minor": 5
}
